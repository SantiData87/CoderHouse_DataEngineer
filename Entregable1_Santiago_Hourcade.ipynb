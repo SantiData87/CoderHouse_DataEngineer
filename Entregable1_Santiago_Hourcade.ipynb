{
 "cells": [
  {
   "cell_type": "markdown",
   "metadata": {},
   "source": [
    "El objetivo de esta entrega es extraer los datos de la API de yahoo finance que me permitan evaluar los precios de cierre de las acciones denominadas las 7 Magnificas. Una vez obtenidos los datos cargarlos a Amazon Redshift"
   ]
  },
  {
   "cell_type": "code",
   "execution_count": 1,
   "metadata": {},
   "outputs": [],
   "source": [
    "#pip install yfinance\n",
    "\n",
    "#Importo Bibliotecas Basicas\n",
    "import pandas as pd\n",
    "import numpy as np\n",
    "#importar yfinance (Previa instalacion de la API: pip install yfinance) para tener datos de mercado financiero\n",
    "import yfinance as yf\n",
    "#Importar librerias de Visualizacion\n",
    "import matplotlib as mpl\n",
    "import matplotlib.pyplot as plt\n",
    "import seaborn as sns\n"
   ]
  },
  {
   "cell_type": "markdown",
   "metadata": {},
   "source": [
    "# 1) Obtengo los registros de la API"
   ]
  },
  {
   "cell_type": "code",
   "execution_count": 2,
   "metadata": {},
   "outputs": [
    {
     "name": "stderr",
     "output_type": "stream",
     "text": [
      "[*********************100%%**********************]  1 of 1 completed\n",
      "[*********************100%%**********************]  1 of 1 completed\n",
      "[*********************100%%**********************]  1 of 1 completed\n",
      "[*********************100%%**********************]  1 of 1 completed\n",
      "[*********************100%%**********************]  1 of 1 completed\n",
      "[*********************100%%**********************]  1 of 1 completed\n",
      "[*********************100%%**********************]  1 of 1 completed"
     ]
    },
    {
     "name": "stdout",
     "output_type": "stream",
     "text": [
      "                  MSFT        GOOG        AAPL        AMZN        META  \\\n",
      "Date                                                                     \n",
      "2024-01-02  370.869995  139.559998  185.639999  149.929993  346.290009   \n",
      "2024-01-03  370.600006  140.360001  184.250000  148.470001  344.470001   \n",
      "2024-01-04  367.940002  138.039993  181.910004  144.570007  347.119995   \n",
      "2024-01-05  367.750000  137.389999  181.179993  145.240005  351.950012   \n",
      "2024-01-08  374.690002  140.529999  185.559998  149.100006  358.660004   \n",
      "...                ...         ...         ...         ...         ...   \n",
      "2024-04-30  389.329987  164.639999  170.330002  175.000000  430.170013   \n",
      "2024-05-01  394.940002  165.570007  169.300003  179.000000  439.190002   \n",
      "2024-05-02  397.839996  168.460007  173.029999  184.720001  441.679993   \n",
      "2024-05-03  406.660004  168.990005  183.380005  186.210007  451.959991   \n",
      "2024-05-06  413.540009  169.830002  181.710007  188.699997  465.679993   \n",
      "\n",
      "                  TSLA        NVDA  \n",
      "Date                                \n",
      "2024-01-02  248.419998  481.679993  \n",
      "2024-01-03  238.449997  475.690002  \n",
      "2024-01-04  237.929993  479.980011  \n",
      "2024-01-05  237.490005  490.970001  \n",
      "2024-01-08  240.449997  522.530029  \n",
      "...                ...         ...  \n",
      "2024-04-30  183.279999  864.020020  \n",
      "2024-05-01  179.990005  830.409973  \n",
      "2024-05-02  180.009995  858.169983  \n",
      "2024-05-03  181.190002  887.890015  \n",
      "2024-05-06  184.759995  921.400024  \n",
      "\n",
      "[87 rows x 7 columns]\n",
      "Index(['MSFT', 'GOOG', 'AAPL', 'AMZN', 'META', 'TSLA', 'NVDA'], dtype='object')\n"
     ]
    },
    {
     "name": "stderr",
     "output_type": "stream",
     "text": [
      "\n"
     ]
    }
   ],
   "source": [
    "#1.1) Creo una lista en la que incluyo los tickers de las Acciones denominadas 7 Maginifcas\n",
    "tickers = ['MSFT','GOOG','AAPL','AMZN', 'META', 'TSLA', 'NVDA']\n",
    "\n",
    "# Descargo el precio de Cierre de las Acciones antes mencionada\n",
    "data = {}\n",
    "for ticker in tickers:\n",
    "    data[ticker] = yf.download(ticker, period=\"YTD\", interval=\"1d\")['Close']\n",
    "\n",
    "# Creo DataFrame \n",
    "df = pd.DataFrame(data\n",
    "                  )\n",
    "#Imprimo el DataFrame\n",
    "print(df)\n",
    "print(df.columns)"
   ]
  },
  {
   "cell_type": "code",
   "execution_count": 4,
   "metadata": {},
   "outputs": [
    {
     "name": "stdout",
     "output_type": "stream",
     "text": [
      "         Date        MSFT        GOOG        AAPL        AMZN        META  \\\n",
      "0  2024-01-02  370.869995  139.559998  185.639999  149.929993  346.290009   \n",
      "1  2024-01-03  370.600006  140.360001  184.250000  148.470001  344.470001   \n",
      "2  2024-01-04  367.940002  138.039993  181.910004  144.570007  347.119995   \n",
      "3  2024-01-05  367.750000  137.389999  181.179993  145.240005  351.950012   \n",
      "4  2024-01-08  374.690002  140.529999  185.559998  149.100006  358.660004   \n",
      "..        ...         ...         ...         ...         ...         ...   \n",
      "82 2024-04-30  389.329987  164.639999  170.330002  175.000000  430.170013   \n",
      "83 2024-05-01  394.940002  165.570007  169.300003  179.000000  439.190002   \n",
      "84 2024-05-02  397.839996  168.460007  173.029999  184.720001  441.679993   \n",
      "85 2024-05-03  406.660004  168.990005  183.380005  186.210007  451.959991   \n",
      "86 2024-05-06  413.540009  169.830002  181.710007  188.699997  465.679993   \n",
      "\n",
      "          TSLA        NVDA  \n",
      "0   248.419998  481.679993  \n",
      "1   238.449997  475.690002  \n",
      "2   237.929993  479.980011  \n",
      "3   237.490005  490.970001  \n",
      "4   240.449997  522.530029  \n",
      "..         ...         ...  \n",
      "82  183.279999  864.020020  \n",
      "83  179.990005  830.409973  \n",
      "84  180.009995  858.169983  \n",
      "85  181.190002  887.890015  \n",
      "86  184.759995  921.400024  \n",
      "\n",
      "[87 rows x 8 columns]\n",
      "Index(['Date', 'MSFT', 'GOOG', 'AAPL', 'AMZN', 'META', 'TSLA', 'NVDA'], dtype='object')\n",
      "Date    datetime64[ns]\n",
      "MSFT           float64\n",
      "GOOG           float64\n",
      "AAPL           float64\n",
      "AMZN           float64\n",
      "META           float64\n",
      "TSLA           float64\n",
      "NVDA           float64\n",
      "dtype: object\n"
     ]
    }
   ],
   "source": [
    "# Mover el índice a la primera columna y reorganizar las columnas\n",
    "df.reset_index(inplace=True)  # Reiniciar el índice y mover Date a una columna\n",
    "df = df[['Date', 'MSFT', 'GOOG', 'AAPL', 'AMZN', 'META', 'TSLA', 'NVDA']]  # Reorganizar las columnas según sea necesario\n",
    "df['Date'] = pd.to_datetime(df['Date'])  # Convertir la columna Date a tipo datetime\n",
    "\n",
    "#Imprimo el DataFrame, sus columnas y tipos de datos contenidos en las mismas\n",
    "print(df)\n",
    "print(df.columns)\n",
    "print(df.dtypes)"
   ]
  },
  {
   "cell_type": "code",
   "execution_count": 5,
   "metadata": {},
   "outputs": [],
   "source": [
    "#Cargo el DataFrame como CSV\n",
    "df.to_csv('Entregable1_Santiago_Hourcade.csv', index=False)"
   ]
  }
 ],
 "metadata": {
  "kernelspec": {
   "display_name": ".pyspark_env",
   "language": "python",
   "name": "python3"
  },
  "language_info": {
   "codemirror_mode": {
    "name": "ipython",
    "version": 3
   },
   "file_extension": ".py",
   "mimetype": "text/x-python",
   "name": "python",
   "nbconvert_exporter": "python",
   "pygments_lexer": "ipython3",
   "version": "3.12.2"
  }
 },
 "nbformat": 4,
 "nbformat_minor": 2
}
